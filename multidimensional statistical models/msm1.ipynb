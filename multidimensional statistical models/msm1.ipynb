{
 "cells": [
  {
   "cell_type": "code",
   "execution_count": 1,
   "id": "aboriginal-doubt",
   "metadata": {},
   "outputs": [],
   "source": [
    "import matplotlib.pyplot as plt\n",
    "import scipy as sp\n",
    "import scipy.stats\n",
    "import scipy.io\n",
    "import numpy as np\n",
    "import seaborn as sb\n",
    "import pandas as pd\n",
    "from scipy.stats import t"
   ]
  },
  {
   "cell_type": "code",
   "execution_count": 2,
   "id": "wicked-treaty",
   "metadata": {},
   "outputs": [],
   "source": [
    "def qq_plot(data, distribution):\n",
    "    data = np.sort(data)\n",
    "    quantiles = [(i + 0.5) / len(data) for i in range(len(data))]\n",
    "    theoretical_points = [distribution.ppf(q) for q in quantiles]\n",
    "    plt.scatter(data, theoretical_points)"
   ]
  },
  {
   "cell_type": "code",
   "execution_count": 3,
   "id": "neither-wonder",
   "metadata": {},
   "outputs": [
    {
     "data": {
      "image/png": "[encoded data removed]",
      "text/plain": [
       "<Figure size 432x288 with 1 Axes>"
      ]
     },
     "metadata": {
      "needs_background": "light"
     },
     "output_type": "display_data"
    }
   ],
   "source": [
    "data = t.rvs(df = 5,size = 100)\n",
    "qq_plot(data,t(df = 5))"
   ]
  }
 ],
 "metadata": {
  "kernelspec": {
   "display_name": "Python 3",
   "language": "python",
   "name": "python3"
  },
  "language_info": {
   "codemirror_mode": {
    "name": "ipython",
    "version": 3
   },
   "file_extension": ".py",
   "mimetype": "text/x-python",
   "name": "python",
   "nbconvert_exporter": "python",
   "pygments_lexer": "ipython3",
   "version": "3.9.2"
  }
 },
 "nbformat": 4,
 "nbformat_minor": 5
}
